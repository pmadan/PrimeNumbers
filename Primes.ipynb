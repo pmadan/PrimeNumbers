{
 "metadata": {
  "name": "",
  "signature": "sha256:b97156724046ba199a3c70180f80e6545fa54149349f92f91281a30cab172f5e"
 },
 "nbformat": 3,
 "nbformat_minor": 0,
 "worksheets": [
  {
   "cells": [
    {
     "cell_type": "code",
     "collapsed": false,
     "input": [
      "%%html\n",
      "<link rel=\"stylesheet\" href=\"static/hyrule.css\" type=\"text/css\">"
     ],
     "language": "python",
     "metadata": {},
     "outputs": [
      {
       "html": [
        "<link rel=\"stylesheet\" href=\"static/hyrule.css\" type=\"text/css\">"
       ],
       "metadata": {},
       "output_type": "display_data",
       "text": [
        "<IPython.core.display.HTML at 0x105643650>"
       ]
      }
     ],
     "prompt_number": 1
    },
    {
     "cell_type": "markdown",
     "metadata": {},
     "source": [
      "# Prime numbers: Generation and Visualization\n",
      "\n",
      "The __`sieve of eratosthenes`__ is the algorithm implemented below, to yield primes upto a given limit. \n",
      "We also examine the distribution of prime numbers amongst positive integers and note that the occurs prime numbers decays (logarithmically) as they get larger.     \n",
      "\n",
      "Using [Seaborn](http://stanford.edu/~mwaskom/software/seaborn/) a statistical visualization library, to make the plots look prettier than the default matplotlib plots. Below cell will install seaborn, if missing."
     ]
    },
    {
     "cell_type": "code",
     "collapsed": false,
     "input": [
      "!pip install seaborn"
     ],
     "language": "python",
     "metadata": {},
     "outputs": [
      {
       "output_type": "stream",
       "stream": "stdout",
       "text": [
        "Requirement already satisfied (use --upgrade to upgrade): seaborn in /Users/pooja/anaconda/lib/python2.7/site-packages\r\n"
       ]
      },
      {
       "output_type": "stream",
       "stream": "stdout",
       "text": [
        "Cleaning up...\r\n"
       ]
      }
     ],
     "prompt_number": 2
    },
    {
     "cell_type": "markdown",
     "metadata": {},
     "source": [
      "Import the necessary python libraries"
     ]
    },
    {
     "cell_type": "code",
     "collapsed": false,
     "input": [
      "# Load Numpy as np, Matplotlib's pyplot as plt and embed the plots \n",
      "# inline in the notebook\n",
      "%pylab inline                           \n",
      "from math import ceil                      \n",
      "import seaborn as sns\n",
      "\n",
      "# Set plotting styles and color palettes\n",
      "sns.set(style = \"ticks\")\n",
      "sns.set_palette(\"Set2\")\n",
      "sns.set_context(\"notebook\", font_scale = 1.5, rc = {\"lines.linewidth\": 3.5,\n",
      "                                                    \"figure.figsize\": (18, 12)})"
     ],
     "language": "python",
     "metadata": {},
     "outputs": [
      {
       "output_type": "stream",
       "stream": "stdout",
       "text": [
        "Populating the interactive namespace from numpy and matplotlib\n"
       ]
      }
     ],
     "prompt_number": 3
    },
    {
     "cell_type": "markdown",
     "metadata": {},
     "source": [
      "###Primality    \n",
      "\n",
      "The test of a number being prime is primality test. Trial division is the slow and painful method of identifying if the number is a prime. Primality test for n checks if multiple of any integer between 2 and $\\sqrt{n}$ divides n.  \n",
      "\n",
      "### Prime number theorem, Prime counting function and Density of primes\n",
      "The prime number theorem (PNT) describes the asymptotic distribution of the prime numbers among the positive integers. It formalizes the intuitive idea that primes become less common as they become larger. With the prime counting function the idea is that for large enough N, the probability that a random integer not greater than N is prime is very close to $1 / ln(N)$. From the prime counting function we can approximately bound the `nth` prime number by:        \n",
      "$\\ln n + \\ln\\ln n - 1 < \\frac{p_n}{n} < \\ln n + \\ln \\ln n \\quad\\text{for } n \\ge 6$         \n",
      "\n",
      "The counting function's integral strongly suggestive of the notion that the 'density' of primes around t should be $1 / ln(t)$. {src:wikipedia} \n",
      "\n",
      "### What is a sieve and how does it generate primes\n",
      "Sieve theory is a set of general techniques in number theory, designed to count, or more realistically to estimate the size of, sifted sets of integers. The `sieve of eratosthenes` generates primes by iteratively marking as composite (i.e., not prime) the multiples of each prime, starting with the multiples of 2. {src:wikipedia}\n",
      "\n",
      "*Sift the Two's and Sift the Three's,\n",
      "The Sieve of Eratosthenes.\n",
      "When the multiples sublime,\n",
      "The numbers that remain are Prime.\n",
      "~ Anonymous *"
     ]
    },
    {
     "cell_type": "code",
     "collapsed": false,
     "input": [
      "# Build a template to generate, store and process prime numbers\n",
      "class PrimeNumbers:\n",
      "  \n",
      "    # default constructor: Initializes and creates all the variables needed to generate primes\n",
      "    # \\input (N) :      the number of primes needed or the number \"upto\" which the primes are\n",
      "    #                   to be generated.\n",
      "    # \\input (upto) :   if set to true then the algorithm will generate all primes upto \"N\"\n",
      "    #\n",
      "    # \\note: the prime number theorem dictates the sieve size.\n",
      "    def __init__(self, N, upto = False):\n",
      "        self.N = N\n",
      "        self.sieve_size = int(ceil(N * (np.log(N) + np.log(np.log(N)))))\n",
      "        self.is_sieve_full = False\n",
      "        self.primes = []                \n",
      "        try:\n",
      "            if upto == False:\n",
      "                self.sieve = [True] * self.sieve_size\n",
      "            else:\n",
      "                self.sieve = [True] * N\n",
      "                self.sieve_size = N\n",
      "        except MemoryError:                # Capture memory errors, if the array allocations fail\n",
      "            print \"Error in the constructor, unable to allocate memory to store sieve\"\n",
      "            raise\n",
      "\n",
      "    #  Implementation of the Sieve of eratosthenes.       \n",
      "    def sieve_eratosthenes(self):\n",
      "        # set the sieve size. \n",
      "        n = self.sieve_size\n",
      "        \n",
      "        # test for primality from 2 to sqrt(n)\n",
      "        root = int(math.ceil(np.sqrt(n)))\n",
      "        i = 2\n",
      "        \n",
      "        # if 'p' is a prime then enumerate all of its multiples (not including p) by \n",
      "        # counting to n in increments of p and mark them as non-primes.\n",
      "\n",
      "        while i < root:\n",
      "            if self.sieve[i] == True:\n",
      "                i2 = i ** 2\n",
      "                for j in range(i2, n, i):\n",
      "                    self.sieve[j] = False                  \n",
      "            i += 1\n",
      "        try:\n",
      "            # the indices that are still marked as true in the sieve are primes. \n",
      "            # locate these indices and generate the primes. \n",
      "            self.primes = list(np.where(self.sieve)[0][2: ])\n",
      "            self.is_sieve_full = True     # set the tracker flag to true\n",
      "        except:\n",
      "            self.is_sieve_full = False\n",
      "            print \"Error in sieve_eratosthenes, unable to allocate memory to store primes\"\n",
      "            return     \n",
      "        return           \n",
      "       \n",
      "    # Calculate the sum of the \"N\" primes    \n",
      "    def sum(self):\n",
      "        if self.is_sieve_full == True:\n",
      "            return sum(self.primes[:self.N])\n",
      "        else:\n",
      "            # if the primes are not generated, then generate them and then calculate the sum\n",
      "            self.sieve_eratosthenes()          \n",
      "            return self.sum()\n",
      "    \n",
      "    def get_primes(self):\n",
      "        if self.is_sieve_full == True:\n",
      "            return self.primes\n",
      "        else:\n",
      "            # if the primes are not generated, then generate them first\n",
      "            self.sieve_eratosthenes()\n",
      "            return self.get_primes()\n",
      "\n",
      "    def hist(self, axis):\n",
      "        if self.is_sieve_full == True:\n",
      "            # plot the histogram of the prime numbers\n",
      "            return axis.hist(self.get_primes(), bins = 100, color = \"seagreen\", edgecolor = \"white\",\n",
      "                             alpha = 0.55, label = \"Histogram\")\n",
      "        else:\n",
      "            # if the primes are not generated, then generate them and then plot the histogram\n",
      "            self.sieve_eratosthenes()\n",
      "            return self.hist(axis)\n",
      "        "
     ],
     "language": "python",
     "metadata": {},
     "outputs": [],
     "prompt_number": 4
    },
    {
     "cell_type": "markdown",
     "metadata": {},
     "source": [
      "##Plot a histogram of the density of prime numbers up to $10^8$      "
     ]
    },
    {
     "cell_type": "code",
     "collapsed": false,
     "input": [
      "try:\n",
      "    n = 100000000                             # 1e8\n",
      "    p = PrimeNumbers(n, True)                 # generate prime numbers upto 1e8\n",
      "    \n",
      "    fig, ax = plt.subplots(1)                 # set figure and axis parameters\n",
      "    ay = ax.twiny()                           # also, use the same axis for the density plot\n",
      "    n, b, p = p.hist(ax)                      # plot the histogram for the primes,\n",
      "                                              # unpack the return values\n",
      "                                              # n -> number of primes in each bin\n",
      "    ay.plot(n, \"g\", label = \"Density\")        # overlay the density of primes on the same plot\n",
      "    plt.legend()\n",
      "    plt.title('Histogram of primes upto $10^8$', fontsize = 20)\n",
      "    # show only one of the x-labels and remove chart junk\n",
      "    ay.xaxis.set_ticklabels([])\n",
      "    sns.despine()\n",
      "    plt.show()\n",
      "except:\n",
      "    print \"Error generating primes. Unable to allocate memory!\"   \n"
     ],
     "language": "python",
     "metadata": {},
     "outputs": [
      {
       "metadata": {},
       "output_type": "display_data",
       "png": "[encoded data removed]",
       "text": [
        "<matplotlib.figure.Figure at 0x10c221190>"
       ]
      }
     ],
     "prompt_number": 5
    },
    {
     "cell_type": "markdown",
     "metadata": {},
     "source": [
      "###Calculate the sum of the first 1000 primes."
     ]
    },
    {
     "cell_type": "code",
     "collapsed": false,
     "input": [
      "try:\n",
      "    n = 1000\n",
      "    p = PrimeNumbers(n)\n",
      "    print \"The sum of the first\", n, \"primes = \", p.sum()\n",
      "except:\n",
      "    print \"Error generating primes. Unable to allocate memory!\"   "
     ],
     "language": "python",
     "metadata": {},
     "outputs": [
      {
       "output_type": "stream",
       "stream": "stdout",
       "text": [
        "The sum of the first 1000 primes =  3682913\n"
       ]
      }
     ],
     "prompt_number": 6
    },
    {
     "cell_type": "markdown",
     "metadata": {},
     "source": [
      "\n",
      "\n",
      "\n",
      "\n",
      "\n",
      "\n",
      "\n",
      "###Scale code sum up the first 100,000 primes?"
     ]
    },
    {
     "cell_type": "code",
     "collapsed": false,
     "input": [
      "try:\n",
      "    n = 100000\n",
      "    p = PrimeNumbers(n)\n",
      "    print \"The sum of the first\", n, \"primes = \", p.sum()\n",
      "except:\n",
      "    print \"Error generating primes. Unable to allocate memory!\"   "
     ],
     "language": "python",
     "metadata": {},
     "outputs": [
      {
       "output_type": "stream",
       "stream": "stdout",
       "text": [
        "The sum of the first 100000 primes =  "
       ]
      },
      {
       "output_type": "stream",
       "stream": "stdout",
       "text": [
        "62260698721\n"
       ]
      }
     ],
     "prompt_number": 7
    },
    {
     "cell_type": "markdown",
     "metadata": {},
     "source": [
      "\n",
      "\n",
      "\n",
      "\n",
      "\n",
      "###Conclusion\n",
      "\n",
      "__ `The sum of the first 1000 primes =  3682913`       \n",
      "`The sum of the first 100000 primes =  62260698721` __\n",
      "\n",
      "The class templates the sieve and the prime number generation. The most surprising fact, is that the density of primes is not dependent the prime itself, but on the limit N. Ideally, we should use memory pools and not re-allocate memory whenever a new sieve is to be calculated. \n",
      "\n",
      "__Reference:__     \n",
      "[Prime Pages](https://primes.utm.edu)    \n",
      "[Prime Density](https://primes.utm.edu/howmany.html#3)    \n",
      "[Prime Number Theorem](http://en.wikipedia.org/wiki/Prime_number_theorem)       \n",
      "[Prime Counting Function](http://en.wikipedia.org/wiki/Prime-counting_function)      \n"
     ]
    }
   ],
   "metadata": {}
  }
 ]
}