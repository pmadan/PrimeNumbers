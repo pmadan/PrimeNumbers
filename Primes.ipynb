{
 "cells": [
  {
   "cell_type": "markdown",
   "metadata": {},
   "source": [
    "# Prime numbers\n",
    "\n",
    "The __$sieve of eratosthenes$__ algorithm is implemented below. This yields primes upto a given limit. We also examine the distribution of prime numbers amongst positive integers and note that the occurences of prime numbers decays (logarithmically) as they get larger.     \n",
    "\n",
    "Using [Seaborn](http://stanford.edu/~mwaskom/software/seaborn/), a statistical visualization library, to make the plots look prettier than the default matplotlib plots. Below cell will install seaborn, if missing."
   ]
  },
  {
   "cell_type": "code",
   "execution_count": null,
   "metadata": {
    "collapsed": false
   },
   "outputs": [],
   "source": [
    "!pip install seaborn"
   ]
  },
  {
   "cell_type": "markdown",
   "metadata": {},
   "source": [
    "Import the necessary python libraries"
   ]
  },
  {
   "cell_type": "code",
   "execution_count": 2,
   "metadata": {
    "collapsed": false
   },
   "outputs": [
    {
     "name": "stdout",
     "output_type": "stream",
     "text": [
      "Populating the interactive namespace from numpy and matplotlib\n"
     ]
    }
   ],
   "source": [
    "# Load Numpy as np, Matplotlib's pyplot as plt and embed the plots \n",
    "# inline in the notebook\n",
    "%pylab inline                           \n",
    "from math import ceil                      \n",
    "import seaborn as sns"
   ]
  },
  {
   "cell_type": "code",
   "execution_count": 3,
   "metadata": {
    "collapsed": false
   },
   "outputs": [],
   "source": [
    "# Set plotting styles and color palettes\n",
    "sns.set(style = \"ticks\")\n",
    "sns.set_palette(\"Set2\")\n",
    "sns.set_context(\"notebook\", font_scale = 1.5, rc = {\"lines.linewidth\": 3.5,\n",
    "                                                    \"figure.figsize\": (12, 8)})"
   ]
  },
  {
   "cell_type": "markdown",
   "metadata": {},
   "source": [
    "###Primality    \n",
    "\n",
    "The test of a number being prime is primality test. Trial division is the slow and painful method of identifying if the number is a prime. Primality test for n checks if multiple of any integer between 2 and $\\sqrt{n}$ divides n.  \n",
    "\n",
    "### Prime number theorem, Prime counting function\n",
    "The prime number theorem (PNT) describes the asymptotic distribution of the prime numbers among the positive integers. It formalizes the intuitive idea that primes become less common as they become larger. With the prime counting function the idea is that for large enough N, the probability that a random integer not greater than N is prime is very close to $1 / ln(N)$. From the prime counting function we can approximately bound the $nth$ prime number by:       \n",
    "$\\ln n + \\ln\\ln n - 1 < \\frac{p_n}{n} < \\ln n + \\ln \\ln n \\quad\\text{for } n \\ge 6$         \n",
    "\n",
    "The counting function's integral strongly suggestive of the notion that the 'density' of primes around t should be $1 / ln(t)$.\n",
    "\n",
    "### What is a sieve and how does it generate primes\n",
    "Sieve theory is a set of general techniques in number theory, designed to count, or more realistically to estimate the size of, sifted sets of integers. The $sieve of eratosthenes$ generates primes by iteratively marking as composite (i.e., not prime) the multiples of each prime, starting with the multiples of 2.\n",
    "\n",
    "_Sift the Two's and Sift the Three's,     \n",
    "The Sieve of Eratosthenes.      \n",
    "When the multiples sublime,         \n",
    "The numbers that remain are Prime.      \n",
    "~ Anonymous_"
   ]
  },
  {
   "cell_type": "code",
   "execution_count": 4,
   "metadata": {
    "collapsed": false
   },
   "outputs": [],
   "source": [
    "# Build a template to generate, store and process prime numbers\n",
    "class PrimeNumbers:\n",
    "  \n",
    "    # default constructor: Initializes all the variables needed to generate primes\n",
    "    # \\input (N) :      the number of primes needed or the number \"upto\" which the primes are\n",
    "    #                   to be generated.\n",
    "    # \\input (upto) :   if set to true then the algorithm will generate all primes upto \"N\"\n",
    "    #\n",
    "    # \\note: the prime number theorem dictates the sieve size.\n",
    "    def __init__(self, N, upto = False):\n",
    "        self.N = N\n",
    "        self.sieve_size = int(ceil(N * (np.log(N) + np.log(np.log(N)))))\n",
    "        self.is_sieve_full = False\n",
    "        self.primes = []                \n",
    "        try:\n",
    "            if upto == False:\n",
    "                self.sieve = [True] * self.sieve_size\n",
    "            else:\n",
    "                self.sieve = [True] * N\n",
    "                self.sieve_size = N\n",
    "        except MemoryError:                \n",
    "            # Capture memory errors, if the array allocations fail\n",
    "            print \"Error in the constructor, unable to allocate memory to store sieve\"\n",
    "            raise\n",
    "\n",
    "    #  Implementation of the Sieve of eratosthenes.       \n",
    "    def sieve_eratosthenes(self):\n",
    "        # set the sieve size. \n",
    "        n = self.sieve_size\n",
    "        \n",
    "        # test for primality from 2 to sqrt(n)\n",
    "        root = int(math.ceil(np.sqrt(n)))\n",
    "        i = 2\n",
    "        \n",
    "        # if 'p' is a prime then enumerate all of its multiples (not including p) by \n",
    "        # counting to n in increments of p and mark them as non-primes.\n",
    "\n",
    "        while i < root:\n",
    "            if self.sieve[i] == True:\n",
    "                i2 = i ** 2\n",
    "                for j in range(i2, n, i):\n",
    "                    self.sieve[j] = False       # No division used at all.           \n",
    "            i += 1\n",
    "        try:\n",
    "            # the indices that are still marked as true in the sieve are primes. \n",
    "            # locate these indices and generate the primes. \n",
    "            self.primes = list(np.where(self.sieve)[0][2: ])\n",
    "            self.is_sieve_full = True     # set the tracker flag to true\n",
    "        except:\n",
    "            self.is_sieve_full = False\n",
    "            print \"Error in sieve_eratosthenes, unable to allocate memory to store primes\"\n",
    "            raise     \n",
    "        return           \n",
    "       \n",
    "    # Calculate the sum of the \"N\" primes    \n",
    "    def sum(self):\n",
    "        if self.is_sieve_full == True:\n",
    "            return sum(self.primes[:self.N])\n",
    "        else:\n",
    "            # if the primes are not generated, then generate them and then calculate the sum\n",
    "            self.sieve_eratosthenes()          \n",
    "            return self.sum()\n",
    "    \n",
    "    def get_primes(self):\n",
    "        if self.is_sieve_full == True:\n",
    "            return self.primes\n",
    "        else:\n",
    "            # if the primes are not generated, then generate them first\n",
    "            self.sieve_eratosthenes()\n",
    "            return self.get_primes()\n",
    "\n",
    "    def hist(self, axis):\n",
    "        if self.is_sieve_full == True:\n",
    "            # plot the histogram of the prime numbers\n",
    "            return axis.hist(self.get_primes(), bins = 100, color = \"seagreen\",\n",
    "                             edgecolor = \"white\", alpha = 0.55, label = \"Histogram\")\n",
    "        else:\n",
    "            # if the primes are not generated, then generate them and then plot the histogram\n",
    "            self.sieve_eratosthenes()\n",
    "            return self.hist(axis)\n",
    "        "
   ]
  },
  {
   "cell_type": "markdown",
   "metadata": {},
   "source": [
    "##Plot a histogram of prime numbers up to $10^8$      "
   ]
  },
  {
   "cell_type": "code",
   "execution_count": 5,
   "metadata": {
    "collapsed": false
   },
   "outputs": [
    {
     "data": {
      "image/png": "[encoded data removed]",
      "text/plain": [
       "<matplotlib.figure.Figure at 0x10bfd1790>"
      ]
     },
     "metadata": {},
     "output_type": "display_data"
    }
   ],
   "source": [
    "try:\n",
    "    n = 100000000                             # 1e8\n",
    "    p = PrimeNumbers(n, upto = True)          # generate prime numbers upto 1e8\n",
    "    fig, ax = plt.subplots(1)                 # set figure and axis parameters\n",
    "    p.hist(ax)                                # plot the histogram for the primes,\n",
    "                                               \n",
    "    plt.title('Histogram of primes upto $10^8$', fontsize = 20)\n",
    "    sns.despine()\n",
    "    plt.show()\n",
    "except:\n",
    "    print \"Error generating primes. Unable to allocate memory!\"   \n"
   ]
  },
  {
   "cell_type": "markdown",
   "metadata": {},
   "source": [
    "###Calculate the sum of the first 1000 primes."
   ]
  },
  {
   "cell_type": "code",
   "execution_count": 6,
   "metadata": {
    "collapsed": false
   },
   "outputs": [
    {
     "name": "stdout",
     "output_type": "stream",
     "text": [
      "The sum of the first 1000 primes =  3682913\n"
     ]
    }
   ],
   "source": [
    "try:\n",
    "    n = 1000\n",
    "    p = PrimeNumbers(n)\n",
    "    print \"The sum of the first\", n, \"primes = \", p.sum()\n",
    "except:\n",
    "    print \"Error generating primes. Unable to allocate memory!\"   "
   ]
  },
  {
   "cell_type": "markdown",
   "metadata": {},
   "source": [
    "\n",
    "\n",
    "\n",
    "\n",
    "\n",
    "\n",
    "\n",
    "###Scale code to sum up the first 100,000 primes?"
   ]
  },
  {
   "cell_type": "code",
   "execution_count": 7,
   "metadata": {
    "collapsed": false
   },
   "outputs": [
    {
     "name": "stdout",
     "output_type": "stream",
     "text": [
      "The sum of the first 100000 primes =  62260698721\n",
      "CPU times: user 578 ms, sys: 10.5 ms, total: 589 ms\n",
      "Wall time: 585 ms\n"
     ]
    }
   ],
   "source": [
    "try:\n",
    "    n = 100000\n",
    "    p = PrimeNumbers(n)\n",
    "    %time print \"The sum of the first\", n, \"primes = \", p.sum()\n",
    "except:\n",
    "    print \"Error generating primes. Unable to allocate memory!\"   "
   ]
  },
  {
   "cell_type": "markdown",
   "metadata": {},
   "source": [
    "\n",
    "\n",
    "\n",
    "\n",
    "\n",
    "###Conclusion\n",
    "\n",
    "The class templates the sieve and the prime number generation. The most surprising fact, is that the density of primes is not dependent the prime itself, but on the limit N. Ideally, we should use memory pools and not re-allocate memory whenever a new sieve is to be allocated/calculated. \n",
    "\n",
    "__References:__     \n",
    "[Prime Pages](https://primes.utm.edu)    \n",
    "[Prime Density](https://primes.utm.edu/howmany.html#3)    \n",
    "[Prime Number Theorem](http://en.wikipedia.org/wiki/Prime_number_theorem)       \n",
    "[Prime Counting Function](http://en.wikipedia.org/wiki/Prime-counting_function)      \n"
   ]
  },
  {
   "cell_type": "code",
   "execution_count": 8,
   "metadata": {
    "collapsed": false
   },
   "outputs": [
    {
     "data": {
      "text/html": [
       "<link rel=\"stylesheet\" href=\"static/hyrule.css\" type=\"text/css\">"
      ],
      "text/plain": [
       "<IPython.core.display.HTML object>"
      ]
     },
     "metadata": {},
     "output_type": "display_data"
    }
   ],
   "source": [
    "%%html\n",
    "<link rel=\"stylesheet\" href=\"static/hyrule.css\" type=\"text/css\">"
   ]
  }
 ],
 "metadata": {
  "kernelspec": {
   "display_name": "Python 2",
   "language": "python",
   "name": "python2"
  },
  "language_info": {
   "codemirror_mode": {
    "name": "ipython",
    "version": 2
   },
   "file_extension": ".py",
   "mimetype": "text/x-python",
   "name": "python",
   "nbconvert_exporter": "python",
   "pygments_lexer": "ipython2",
   "version": "2.7.9"
  }
 },
 "nbformat": 4,
 "nbformat_minor": 0
}
